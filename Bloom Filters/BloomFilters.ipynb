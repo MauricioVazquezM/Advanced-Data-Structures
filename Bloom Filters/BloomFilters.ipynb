{
 "cells": [
  {
   "cell_type": "code",
   "execution_count": 1,
   "metadata": {},
   "outputs": [],
   "source": [
    "import numpy as np\n",
    "import hashlib as hl\n",
    "import math\n",
    "import mmh3\n",
    "from bitarray import bitarray\n",
    "import random \n",
    "import matplotlib.pyplot as plt"
   ]
  },
  {
   "cell_type": "code",
   "execution_count": 2,
   "metadata": {},
   "outputs": [
    {
     "data": {
      "text/plain": [
       "'110eff7d40a3779f4513c1be6f8fffcf'"
      ]
     },
     "execution_count": 2,
     "metadata": {},
     "output_type": "execute_result"
    }
   ],
   "source": [
    "hl.md5('mauricio'.encode('utf-8')).hexdigest()"
   ]
  },
  {
   "cell_type": "code",
   "execution_count": 3,
   "metadata": {},
   "outputs": [
    {
     "name": "stdout",
     "output_type": "stream",
     "text": [
      "1\n",
      "2\n",
      "3\n",
      "100\n"
     ]
    }
   ],
   "source": [
    "lugares = [1,2,3,100]\n",
    "for l in lugares:\n",
    "    print(l)"
   ]
  },
  {
   "cell_type": "code",
   "execution_count": 4,
   "metadata": {},
   "outputs": [],
   "source": [
    "bloom = np.zeros(1000,dtype=bool)"
   ]
  },
  {
   "cell_type": "code",
   "execution_count": 5,
   "metadata": {},
   "outputs": [],
   "source": [
    "for l in lugares: \n",
    "    bloom[l] = True"
   ]
  },
  {
   "cell_type": "code",
   "execution_count": 6,
   "metadata": {},
   "outputs": [],
   "source": [
    "def inserta (dato):\n",
    "    lugar = calcularHash(dato, m, k)\n",
    "    for l in lugares:\n",
    "        filtro[l] = True\n"
   ]
  },
  {
   "cell_type": "code",
   "execution_count": 7,
   "metadata": {},
   "outputs": [],
   "source": [
    "m = 257\n",
    "k = 4\n",
    "dato = 'fer'\n",
    "bits = np.ceil(np.log2(m))\n",
    "caracteres_hexa = int(np.ceil(bits/4))\n",
    "hash = hl.md5('fer'.encode('utf-8')).hexdigest()"
   ]
  },
  {
   "cell_type": "code",
   "execution_count": 8,
   "metadata": {},
   "outputs": [],
   "source": [
    "# Tomar caracteres_hexa k veces\n",
    "res = []\n",
    "for i in range(0,k*caracteres_hexa,caracteres_hexa):\n",
    "    res += [int(hash[i:i+caracteres_hexa],16)%m]"
   ]
  },
  {
   "cell_type": "code",
   "execution_count": 9,
   "metadata": {},
   "outputs": [
    {
     "data": {
      "text/plain": [
       "[5, 124, 6, 134]"
      ]
     },
     "execution_count": 9,
     "metadata": {},
     "output_type": "execute_result"
    }
   ],
   "source": [
    "res"
   ]
  },
  {
   "cell_type": "markdown",
   "metadata": {},
   "source": [
    "#### CLASE BLOOM FILTER"
   ]
  },
  {
   "cell_type": "code",
   "execution_count": 10,
   "metadata": {},
   "outputs": [],
   "source": [
    "class BloomFilter:\n",
    "    def __init__(self,m,k=1):\n",
    "        self.bits = np.ceil(np.log2(m))\n",
    "        self.caracteres_hexa = int(np.ceil(self.bits/4))\n",
    "        self.numMD5 = np.ceil(k*self.caracteres_hexa/128)\n",
    "        self.m = m\n",
    "        self.k = k\n",
    "        self.bloom = np.zeros(self.m,dtype=bool)\n",
    "        self.cont = 0\n",
    "\n",
    "    def calcula_k_posiciones(self,dato):\n",
    "        res = []\n",
    "        hash = ''\n",
    "        for i in range(int(self.numMD5)):\n",
    "            hash = hl.md5(dato.encode('utf-8')).hexdigest()\n",
    "        for i in range(0,self.k*self.caracteres_hexa,self.caracteres_hexa):\n",
    "            res += [int(hash[i:i+self.caracteres_hexa],16)%self.m]\n",
    "        return res\n",
    "    \n",
    "    def inserta(self,dato):\n",
    "        res = self.calcula_k_posiciones(dato)\n",
    "        for i in res:\n",
    "            self.bloom[i]=True\n",
    "        self.cont += 1\n",
    "    \n",
    "    def busca(self,dato):\n",
    "        res = self.calcula_k_posiciones(dato)\n",
    "        esta = True\n",
    "        for i in res:\n",
    "            esta = esta and self.bloom[i]\n",
    "        return esta"
   ]
  },
  {
   "cell_type": "code",
   "execution_count": 11,
   "metadata": {},
   "outputs": [],
   "source": [
    "# Creando BloomFilter\n",
    "bm = BloomFilter(4,2)"
   ]
  },
  {
   "cell_type": "code",
   "execution_count": 12,
   "metadata": {},
   "outputs": [
    {
     "data": {
      "text/plain": [
       "[1, 0]"
      ]
     },
     "execution_count": 12,
     "metadata": {},
     "output_type": "execute_result"
    }
   ],
   "source": [
    "# Calculando k posiciones\n",
    "bm.calcula_k_posiciones('fer')"
   ]
  },
  {
   "cell_type": "code",
   "execution_count": 13,
   "metadata": {},
   "outputs": [],
   "source": [
    "# Insertando datos\n",
    "bm.inserta('fer')\n",
    "bm.inserta('fer1')\n",
    "bm.inserta('fer2')\n",
    "bm.inserta('fer4')"
   ]
  },
  {
   "cell_type": "code",
   "execution_count": 14,
   "metadata": {},
   "outputs": [
    {
     "data": {
      "text/plain": [
       "False"
      ]
     },
     "execution_count": 14,
     "metadata": {},
     "output_type": "execute_result"
    }
   ],
   "source": [
    "# Buscando datos\n",
    "bm.busca('mau')"
   ]
  },
  {
   "cell_type": "code",
   "execution_count": 15,
   "metadata": {},
   "outputs": [],
   "source": [
    "# Generando Strings Aleatorios\n",
    "def generaStringAlAzar(n):\n",
    "    res=''\n",
    "    for i in range(n):\n",
    "        res += chr(random.randint(65,91))\n",
    "    return res"
   ]
  },
  {
   "cell_type": "code",
   "execution_count": 16,
   "metadata": {},
   "outputs": [
    {
     "name": "stdout",
     "output_type": "stream",
     "text": [
      "STOWN True\n",
      "QSOKL True\n",
      "BYKHW False\n",
      "WVINJ True\n",
      "POEYF True\n",
      "MLQHL True\n",
      "OW[LW True\n",
      "QSDUP True\n",
      "QYO[V False\n",
      "TQTCR False\n"
     ]
    }
   ],
   "source": [
    "for i in range(10):\n",
    "    strpru = generaStringAlAzar(5)\n",
    "    print(strpru,bm.busca(strpru))"
   ]
  },
  {
   "cell_type": "markdown",
   "metadata": {},
   "source": [
    "##### Tarea experimento Bloom filters"
   ]
  },
  {
   "cell_type": "markdown",
   "metadata": {},
   "source": [
    "> Hacer un programa para determinar experimentalmente el tamaño mínimo m de un Bloom Filter, dado el número de elementos a almacenar n y un porcentaje f de falsos positivos máximo aceptable."
   ]
  },
  {
   "cell_type": "code",
   "execution_count": 19,
   "metadata": {},
   "outputs": [],
   "source": [
    "def calculaM(n,p):\n",
    "    valores_m=[]\n",
    "    k=1 ## inicio valor de k´s\n",
    "    for e in range(10):\n",
    "        flag=True\n",
    "        resta=0\n",
    "        while(flag):\n",
    "            ocupado=n*k ## aqui veo el total del arreglo ocupado en el peor caso\n",
    "            #print(ocupado)\n",
    "            otra_p=1-p ## lo ocupado representaria un porcentaje dle arreglo total\n",
    "            #print(otra_p)\n",
    "            valorM=math.ceil(ocupado*100/(otra_p*100))-resta ##calculo la regla de tres y le pongo funcion techo, además voy en disminución\n",
    "            #print(valorM)\n",
    "            bloo=BloomFilter(valorM,k) ## creo el experimento \n",
    "            prob_ACUMULADA=0\n",
    "            for l in range(100): ##hago el experimento 100 veces\n",
    "                for i in range(n):\n",
    "                    strpru=generaStringAlAzar(10)\n",
    "                    #print(strpru,bloo.calcula_k_posiciones(strpru))\n",
    "                    bloo.inserta(strpru)\n",
    "                cont=0\n",
    "                for j in range(100):    \n",
    "                    for r in range(n):\n",
    "                        strpru=generaStringAlAzar(10)\n",
    "                        #print(strpru,bloo.busca(strpru))\n",
    "                        if(bloo.busca(strpru)==False): ## cuento los falsos del experimento\n",
    "                            cont=cont+1\n",
    "                promedio_Falso=cont/100    ##Saco promedio de Falsos\n",
    "                #print(promedio_Falso)\n",
    "                prob_sacada=promedio_Falso/n  ## Saco el porcentaje de los falsos\n",
    "                #print(prob_sacada)\n",
    "                prob_ACUMULADA=prob_ACUMULADA+prob_sacada ## voy sumando todas las probabilidades del falso\n",
    "                bloo=BloomFilter(valorM,k) ## reinicio el experimento\n",
    "            prob_FINAL=prob_ACUMULADA/100  ##Obtengo el promedio de todos los 100 experimentos\n",
    "            #print(\"PROBABILIDAD FINAL:\"+str(prob_FINAL))\n",
    "            if(prob_FINAL<=p): ## Si con la M propuesta se cumple que el porcentaje es menor al dado acabo\n",
    "                flag=False\n",
    "\n",
    "            resta=resta+1 ## Aqui incremento el valor de la resta para la M que no funciono\n",
    "        print(\"El valor de M para \"+str(k)+\" funciones de Hash con \"+str(n)+\" datos y con \"+str(p)+\" procentaje de falsos es: \"+str(valorM))\n",
    "        valores_m.append(valorM)\n",
    "        k=k+1 \n",
    "    return valores_m    "
   ]
  },
  {
   "cell_type": "code",
   "execution_count": 20,
   "metadata": {},
   "outputs": [
    {
     "name": "stdout",
     "output_type": "stream",
     "text": [
      "El valor de M para 1 funciones de Hash con 5 datos y con 0.4 procentaje de falsos es: 6\n",
      "El valor de M para 2 funciones de Hash con 5 datos y con 0.4 procentaje de falsos es: 7\n",
      "El valor de M para 3 funciones de Hash con 5 datos y con 0.4 procentaje de falsos es: 9\n",
      "El valor de M para 4 funciones de Hash con 5 datos y con 0.4 procentaje de falsos es: 10\n",
      "El valor de M para 5 funciones de Hash con 5 datos y con 0.4 procentaje de falsos es: 11\n",
      "El valor de M para 6 funciones de Hash con 5 datos y con 0.4 procentaje de falsos es: 12\n",
      "El valor de M para 7 funciones de Hash con 5 datos y con 0.4 procentaje de falsos es: 14\n",
      "El valor de M para 8 funciones de Hash con 5 datos y con 0.4 procentaje de falsos es: 16\n",
      "El valor de M para 9 funciones de Hash con 5 datos y con 0.4 procentaje de falsos es: 16\n",
      "El valor de M para 10 funciones de Hash con 5 datos y con 0.4 procentaje de falsos es: 17\n"
     ]
    }
   ],
   "source": [
    "n=5\n",
    "p=0.4\n",
    "valores_m=calculaM(n,p)"
   ]
  },
  {
   "cell_type": "code",
   "execution_count": 21,
   "metadata": {},
   "outputs": [],
   "source": [
    "valores_k=[]\n",
    "for i in range(1,11):\n",
    "    valores_k.append(i)"
   ]
  },
  {
   "cell_type": "code",
   "execution_count": 22,
   "metadata": {},
   "outputs": [
    {
     "data": {
      "text/plain": [
       "Text(0.5, 1.0, 'Relación entre el tamaño del arreglo y las funciones de hash dado 5 datos y con probabilidad de 0.4 falsos positivos')"
      ]
     },
     "execution_count": 22,
     "metadata": {},
     "output_type": "execute_result"
    },
    {
     "data": {
      "image/png": "[encoded data removed]",
      "text/plain": [
       "<Figure size 640x480 with 1 Axes>"
      ]
     },
     "metadata": {},
     "output_type": "display_data"
    }
   ],
   "source": [
    "# Ploteando\n",
    "plt.plot(valores_m, valores_k)\n",
    "plt.xlabel('Valor de m')\n",
    "plt.ylabel('Valor de k Funciones de Hash')\n",
    "plt.title(\"Relación entre el tamaño del arreglo y las funciones de hash dado \"+str(n)+\" datos y con probabilidad de \"+str(p)+\" falsos positivos\")"
   ]
  },
  {
   "cell_type": "markdown",
   "metadata": {},
   "source": [
    "##### Relacion enre k y el valor de falsos positivos\n",
    "\n",
    "> Esta es una relación que depende del valor de la M y de los N datos. Pero es evidente que es una función decreciente pues entre más funciones de Hash se aplique a los datos menos Falsos van a haber "
   ]
  },
  {
   "cell_type": "code",
   "execution_count": 24,
   "metadata": {},
   "outputs": [
    {
     "data": {
      "text/plain": [
       "[2.9099999999999993,\n",
       " 2.99,\n",
       " 1.9000000000000004,\n",
       " 1.9900000000000007,\n",
       " 1.52,\n",
       " 1.51,\n",
       " 1.2899999999999998,\n",
       " 0.65,\n",
       " 0.65,\n",
       " 0.52,\n",
       " 0.38,\n",
       " 0.135,\n",
       " 0.0,\n",
       " 0.285,\n",
       " 0.13999999999999999,\n",
       " 0.16999999999999998,\n",
       " 0.0,\n",
       " 0.0,\n",
       " 0.0,\n",
       " 0.0,\n",
       " 0.0,\n",
       " 0.0,\n",
       " 0.0,\n",
       " 0.0,\n",
       " 0.0,\n",
       " 0.0,\n",
       " 0.0,\n",
       " 0.0,\n",
       " 0.0]"
      ]
     },
     "execution_count": 24,
     "metadata": {},
     "output_type": "execute_result"
    }
   ],
   "source": [
    "# Relacion M y n datos\n",
    "falso=[]\n",
    "for k in range(1,30):\n",
    "    bloom=BloomFilter(10,k)\n",
    "    #print(k)\n",
    "    tot_F=0\n",
    "    for s in range(20):\n",
    "        cont=0\n",
    "        bloom=BloomFilter(10,k)\n",
    "        for r in range(5):\n",
    "            strpru=generaStringAlAzar(10)\n",
    "            bloom.inserta(strpru)\n",
    "        for j in range(10):\n",
    "            for i in range(5):\n",
    "                strpru=generaStringAlAzar(5)\n",
    "                if(bloom.busca(strpru)==False):\n",
    "                    cont=cont+1\n",
    "        #print((cont/2))\n",
    "        promedio=(cont/10)\n",
    "        tot_F=tot_F+promedio\n",
    "    #print(tot_F/10)\n",
    "    falso.append(tot_F/20)\n",
    "falso"
   ]
  },
  {
   "cell_type": "code",
   "execution_count": 25,
   "metadata": {},
   "outputs": [],
   "source": [
    "val_k=[]\n",
    "for i in range(1,30):\n",
    "    val_k.append(i)"
   ]
  },
  {
   "cell_type": "code",
   "execution_count": 26,
   "metadata": {},
   "outputs": [
    {
     "data": {
      "text/plain": [
       "Text(0.5, 1.0, 'Relacion entre K y el valor de Falsos postivos dado una m de 10 y 5 datos')"
      ]
     },
     "execution_count": 26,
     "metadata": {},
     "output_type": "execute_result"
    },
    {
     "data": {
      "image/png": "[encoded data removed]",
      "text/plain": [
       "<Figure size 640x480 with 1 Axes>"
      ]
     },
     "metadata": {},
     "output_type": "display_data"
    }
   ],
   "source": [
    "# Ploteando\n",
    "plt.plot(falso, val_k)\n",
    "plt.xlabel('Valor de falsos positivos')\n",
    "plt.ylabel('Valor de k Funciones de Hash')\n",
    "plt.title(\"Relacion entre K y el valor de Falsos postivos dado una m de 10 y 5 datos\")"
   ]
  }
 ],
 "metadata": {
  "kernelspec": {
   "display_name": "Python 3.10.8 64-bit (microsoft store)",
   "language": "python",
   "name": "python3"
  },
  "language_info": {
   "codemirror_mode": {
    "name": "ipython",
    "version": 3
   },
   "file_extension": ".py",
   "mimetype": "text/x-python",
   "name": "python",
   "nbconvert_exporter": "python",
   "pygments_lexer": "ipython3",
   "version": "3.10.8"
  },
  "orig_nbformat": 4,
  "vscode": {
   "interpreter": {
    "hash": "73267b13fdd18031647b53e121d1bf1ddb404052ee066837db5c8b8222e511c3"
   }
  }
 },
 "nbformat": 4,
 "nbformat_minor": 2
}
