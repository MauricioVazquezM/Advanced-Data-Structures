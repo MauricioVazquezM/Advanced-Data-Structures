{
 "cells": [
  {
   "cell_type": "code",
   "execution_count": 1,
   "metadata": {},
   "outputs": [],
   "source": [
    "class NodoTrie:\n",
    "  \"\"\"\n",
    "     Clase NodoTrie usada dentro de la clase Trie\n",
    "  \"\"\"\n",
    "  def __init__(self):\n",
    "    self.hijos={}\n",
    "    #self.elemento=None # esto es si queremos usar esto como llave valor, el elemento es el valor. Ahora no lo usamos asi\n",
    "    self.fin=False  "
   ]
  },
  {
   "cell_type": "code",
   "execution_count": 21,
   "metadata": {},
   "outputs": [],
   "source": [
    "class Trie:\n",
    "\n",
    "    def __init__(self):\n",
    "      self.raiz=NodoTrie()\n",
    "      self.cont=0\n",
    "      \n",
    "    def inserta(self,palabra):\n",
    "      self.actual=self.raiz\n",
    "      for i in palabra:\n",
    "        if i in self.actual.hijos:\n",
    "          self.actual=self.actual.hijos[i]\n",
    "        else:\n",
    "          self.actual.hijos[i]=NodoTrie()\n",
    "          self.actual=self.actual.hijos[i]\n",
    "        if not self.actual.fin:\n",
    "          self.actual.fin=True\n",
    "          self.cont+=1\n",
    "\n",
    "    def busca(self,palabra):\n",
    "        actual=self.raiz\n",
    "        res=False\n",
    "        pum=False\n",
    "        for i in palabra:\n",
    "            if i in actual.hijos:\n",
    "                actual=actual.hijos[i]\n",
    "            else:\n",
    "                pum=True\n",
    "                break\n",
    "        if not pum and actual.fin:\n",
    "            res=True\n",
    "        return res\n",
    "        "
   ]
  },
  {
   "cell_type": "code",
   "execution_count": 22,
   "metadata": {},
   "outputs": [],
   "source": [
    "tri= Trie()"
   ]
  },
  {
   "cell_type": "code",
   "execution_count": 23,
   "metadata": {},
   "outputs": [],
   "source": [
    "tri.inserta(\"hola\")"
   ]
  },
  {
   "cell_type": "code",
   "execution_count": 25,
   "metadata": {},
   "outputs": [
    {
     "data": {
      "text/plain": [
       "True"
      ]
     },
     "execution_count": 25,
     "metadata": {},
     "output_type": "execute_result"
    }
   ],
   "source": [
    "tri.busca(\"hola\")"
   ]
  },
  {
   "cell_type": "code",
   "execution_count": 52,
   "metadata": {},
   "outputs": [],
   "source": [
    "archivo=open(\"masP.txt\",\"r\")\n",
    "wor=archivo.read()\n",
    "archivo.close()"
   ]
  },
  {
   "cell_type": "code",
   "execution_count": 53,
   "metadata": {},
   "outputs": [],
   "source": [
    "words=wor.split(\"\\n\")"
   ]
  },
  {
   "cell_type": "code",
   "execution_count": 54,
   "metadata": {},
   "outputs": [],
   "source": [
    "for i in words:\n",
    "    tri.inserta(i)"
   ]
  },
  {
   "cell_type": "code",
   "execution_count": 57,
   "metadata": {},
   "outputs": [
    {
     "data": {
      "text/plain": [
       "False"
      ]
     },
     "execution_count": 57,
     "metadata": {},
     "output_type": "execute_result"
    }
   ],
   "source": [
    "tri.busca(\"arrozz\")"
   ]
  },
  {
   "cell_type": "code",
   "execution_count": 58,
   "metadata": {},
   "outputs": [],
   "source": [
    "import pickle"
   ]
  },
  {
   "cell_type": "code",
   "execution_count": 59,
   "metadata": {},
   "outputs": [],
   "source": [
    "archivo=open(\"masPTrie.txt\",\"wb\")\n",
    "pickle.dump(tri,archivo)\n",
    "archivo.close()"
   ]
  },
  {
   "cell_type": "code",
   "execution_count": null,
   "metadata": {},
   "outputs": [],
   "source": []
  }
 ],
 "metadata": {
  "kernelspec": {
   "display_name": "Python 3.10.8 64-bit (microsoft store)",
   "language": "python",
   "name": "python3"
  },
  "language_info": {
   "codemirror_mode": {
    "name": "ipython",
    "version": 3
   },
   "file_extension": ".py",
   "mimetype": "text/x-python",
   "name": "python",
   "nbconvert_exporter": "python",
   "pygments_lexer": "ipython3",
   "version": "3.10.8"
  },
  "vscode": {
   "interpreter": {
    "hash": "73267b13fdd18031647b53e121d1bf1ddb404052ee066837db5c8b8222e511c3"
   }
  }
 },
 "nbformat": 4,
 "nbformat_minor": 4
}
