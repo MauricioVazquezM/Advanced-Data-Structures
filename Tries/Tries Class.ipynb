{
 "cells": [
  {
   "cell_type": "markdown",
   "metadata": {},
   "source": [
    "#### Clase Trie"
   ]
  },
  {
   "cell_type": "code",
   "execution_count": 2,
   "metadata": {},
   "outputs": [],
   "source": [
    "class NodoTrie:\n",
    "  \"\"\"\n",
    "     Clase NodoTrie usada dentro de la clase Trie\n",
    "  \"\"\"\n",
    "  def __init__(self):\n",
    "    self.hijos={}\n",
    "    #self.elemento=None # esto es si queremos usar esto como llave valor, el elemento es el valor. Ahora no lo usamos asi\n",
    "    self.fin=False  "
   ]
  },
  {
   "cell_type": "code",
   "execution_count": 3,
   "metadata": {},
   "outputs": [],
   "source": [
    "class Trie:\n",
    "\n",
    "    def __init__(self):\n",
    "      self.raiz=NodoTrie()\n",
    "      self.cont=0\n",
    "\n",
    "    def inserta(self,palabra):\n",
    "      self.actual=self.raiz\n",
    "      for i in palabra:\n",
    "        if i in self.actual.hijos:\n",
    "          self.actual=self.actual.hijos[i]\n",
    "        else:\n",
    "          self.actual.hijos[i]=NodoTrie()\n",
    "          self.actual=self.actual.hijos[i]\n",
    "        if not self.actual.fin:\n",
    "          self.actual.fin=True\n",
    "          self.cont+=1\n",
    "    \n",
    "    def busca(self,palabra):\n",
    "        actual=self.raiz\n",
    "        res=False\n",
    "        pum=False\n",
    "        for i in palabra:\n",
    "            if i in actual.hijos:\n",
    "                actual=actual.hijos[i]\n",
    "            else:\n",
    "                pum=True\n",
    "                break\n",
    "        if not pum and actual.fin:\n",
    "            res=True\n",
    "        return res\n",
    "\n",
    "    def busca2(self,cadena,actual):\n",
    "        if actual is None:\n",
    "          return False\n",
    "        if len(cadena) == 0 and actual.fin:\n",
    "          return actual.fin\n",
    "        res=False\n",
    "        if cadena[0] in actual.hijos:\n",
    "          res=self.busca(cadena[1:],actual.hijos[cadena[0]])\n",
    "        return res\n",
    "    \n",
    "    def borra(self,cadena,actual):\n",
    "        if actual is None:\n",
    "          return False\n",
    "        if len(cadena)==0:\n",
    "          if actual.fin:\n",
    "            actual.fin=False\n",
    "            self.cont-=1\n",
    "            return len(actual.hijos)==0 \n",
    "          return False\n",
    "        res = False\n",
    "        if cadena[0] in actual.hijos.keys():\n",
    "          res = self.busca(cadena[1:], actual.hijos[cadena[0]])\n",
    "        if res:\n",
    "          actual.hijos.pop(cadena[0])\n",
    "          res=len(actual.hijos)==0 and not actual.fin\n",
    "        return res"
   ]
  },
  {
   "cell_type": "markdown",
   "metadata": {},
   "source": [
    "#### Pruebas de funcionamiento"
   ]
  },
  {
   "cell_type": "code",
   "execution_count": 4,
   "metadata": {},
   "outputs": [],
   "source": [
    "# Inicializando trie\n",
    "trie=Trie()"
   ]
  },
  {
   "cell_type": "code",
   "execution_count": 5,
   "metadata": {},
   "outputs": [],
   "source": [
    "# Insertando en el trie\n",
    "trie.inserta('Esponda te amo')"
   ]
  },
  {
   "cell_type": "code",
   "execution_count": 6,
   "metadata": {},
   "outputs": [
    {
     "data": {
      "text/plain": [
       "True"
      ]
     },
     "execution_count": 6,
     "metadata": {},
     "output_type": "execute_result"
    }
   ],
   "source": [
    "# Buscando en el trie\n",
    "trie.busca('Esponda te amo')"
   ]
  },
  {
   "cell_type": "markdown",
   "metadata": {},
   "source": [
    "#### Ejercicio laboratorio: archivo de texto"
   ]
  },
  {
   "cell_type": "code",
   "execution_count": 10,
   "metadata": {},
   "outputs": [],
   "source": [
    "# Leyendo archivo\n",
    "words = open(\"words.txt\",\"r\")\n",
    "w = words.read()\n",
    "words.close()"
   ]
  },
  {
   "cell_type": "code",
   "execution_count": 11,
   "metadata": {},
   "outputs": [],
   "source": [
    "# Separando palabras\n",
    "words_separated = w.split(\"\\n\")"
   ]
  },
  {
   "cell_type": "code",
   "execution_count": 13,
   "metadata": {},
   "outputs": [],
   "source": [
    "# Insertando en el trie\n",
    "for i in words_separated:\n",
    "    trie.inserta(i)"
   ]
  },
  {
   "cell_type": "code",
   "execution_count": 17,
   "metadata": {},
   "outputs": [
    {
     "name": "stdout",
     "output_type": "stream",
     "text": [
      "Palabra que si deberia estar:True\n",
      "Palabra que no deberia estar:False\n"
     ]
    }
   ],
   "source": [
    "# Pruebas\n",
    "print('Palabra que si deberia estar:'+ str(trie.busca('Aalto')))\n",
    "print('Palabra que no deberia estar:'+ str(trie.busca('caguama')))"
   ]
  },
  {
   "cell_type": "code",
   "execution_count": 18,
   "metadata": {},
   "outputs": [],
   "source": [
    "# Añadiendo pickle\n",
    "import pickle"
   ]
  },
  {
   "cell_type": "code",
   "execution_count": 21,
   "metadata": {},
   "outputs": [],
   "source": [
    "# Metiendo el trie al archivo auxiliar\n",
    "archivo2 = open(\"words2.txt\",\"wb\")\n",
    "pickle.dump(trie,archivo2)\n",
    "archivo2.close()"
   ]
  },
  {
   "cell_type": "markdown",
   "metadata": {},
   "source": [
    "##### Resultado....\n",
    "El archivo original de palabras tiene un peso de 4,749 KB, mientras que el archivo contenedor del trie tiene un peso de 27,910 KB."
   ]
  }
 ],
 "metadata": {
  "kernelspec": {
   "display_name": "Python 3.10.8 64-bit (microsoft store)",
   "language": "python",
   "name": "python3"
  },
  "language_info": {
   "codemirror_mode": {
    "name": "ipython",
    "version": 3
   },
   "file_extension": ".py",
   "mimetype": "text/x-python",
   "name": "python",
   "nbconvert_exporter": "python",
   "pygments_lexer": "ipython3",
   "version": "3.10.8"
  },
  "orig_nbformat": 4,
  "vscode": {
   "interpreter": {
    "hash": "73267b13fdd18031647b53e121d1bf1ddb404052ee066837db5c8b8222e511c3"
   }
  }
 },
 "nbformat": 4,
 "nbformat_minor": 2
}
